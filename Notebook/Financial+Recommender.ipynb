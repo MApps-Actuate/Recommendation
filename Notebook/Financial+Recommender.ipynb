{
 "cells": [
  {
   "cell_type": "markdown",
   "metadata": {},
   "source": [
    "# ============================================================"
   ]
  },
  {
   "cell_type": "markdown",
   "metadata": {},
   "source": [
    "# Product Recommendation Engine - Innovate Bank"
   ]
  },
  {
   "cell_type": "markdown",
   "metadata": {},
   "source": [
    "# ============================================================"
   ]
  },
  {
   "cell_type": "markdown",
   "metadata": {},
   "source": [
    "# What is Collaborative filtering?"
   ]
  },
  {
   "cell_type": "markdown",
   "metadata": {},
   "source": [
    "Collaborative filtering is commonly used for recommender systems. The aim is to fill in missing entries of a user-item association matrix, in our case, the customer-product rating matrix. MLlib currently supports model-based collaborative filtering, in which users and products are described by a small set of latent factors that can be used to predict missing entries. Thus, we will implement the alternating least squares (ALS) algorithm to learn these latent factors."
   ]
  },
  {
   "cell_type": "markdown",
   "metadata": {},
   "source": [
    "# Model Stages\n",
    "1. Import Packages and Load Data\n",
    "2. Data Exploration\n",
    "3. Train and Test Validation - Parameter Tuning\n",
    "4. Finalize Alternating Least Squares Recommendation Model\n",
    "5. Publish and Execute Model"
   ]
  },
  {
   "cell_type": "markdown",
   "metadata": {},
   "source": [
    "# 1. Import Packages and Load Data \n"
   ]
  },
  {
   "cell_type": "code",
   "execution_count": 13,
   "metadata": {
    "collapsed": true,
    "scrolled": true
   },
   "outputs": [],
   "source": [
    "# upload packages\n",
    "from pyspark.sql.types import *\n",
    "from pyspark.sql.functions import *\n",
    "from pyspark.ml import Pipeline\n",
    "import matplotlib.pyplot as plt\n",
    "\n",
    "# machine learning packages\n",
    "from pyspark.sql import Row\n",
    "from pyspark.ml.evaluation import RegressionEvaluator\n",
    "from pyspark.ml.recommendation import ALSModel, ALS\n",
    "from pyspark.ml.feature import SQLTransformer\n"
   ]
  },
  {
   "cell_type": "code",
   "execution_count": 14,
   "metadata": {
    "collapsed": true,
    "scrolled": false
   },
   "outputs": [],
   "source": [
    "# import data from hdfs - Select the product, customer and rating\n",
    "Customer_Accounts = spark.sql(\"select customer_urn, productid,products, rating from recommendisa.accounts_training_data\")\n"
   ]
  },
  {
   "cell_type": "code",
   "execution_count": 15,
   "metadata": {
    "collapsed": true,
    "scrolled": true
   },
   "outputs": [],
   "source": [
    "# change datatype for customer urn (integer), productid (integer) and rating (float) - this is the required input for ALS\n",
    "Customer_Accounts = Customer_Accounts.withColumn('customer_urn', col('customer_urn').cast(IntegerType()))\n",
    "Customer_Accounts = Customer_Accounts.withColumn('productid', col('productid').cast(IntegerType()))\n",
    "Customer_Accounts = Customer_Accounts.withColumn('rating', col('rating').cast(FloatType()))"
   ]
  },
  {
   "cell_type": "code",
   "execution_count": 16,
   "metadata": {},
   "outputs": [
    {
     "name": "stdout",
     "output_type": "stream",
     "text": [
      "There are  2,095,562  customer records in the Accounts Table\n"
     ]
    }
   ],
   "source": [
    "# Remove rows that have missing values or no customer urns\n",
    "Customer_Accounts = Customer_Accounts.na.drop(subset=[\"customer_urn\"])\n",
    "print \"There are \", format(Customer_Accounts.count(),',d'), \" customer records in the Accounts Table\""
   ]
  },
  {
   "cell_type": "markdown",
   "metadata": {},
   "source": [
    "# 2. Data Exploration - Investment Accounts"
   ]
  },
  {
   "cell_type": "code",
   "execution_count": 17,
   "metadata": {
    "collapsed": true
   },
   "outputs": [],
   "source": [
    "#convert to pandas dataframe for plotting\n",
    "all_accounts = Customer_Accounts.toPandas()"
   ]
  },
  {
   "cell_type": "code",
   "execution_count": 18,
   "metadata": {
    "collapsed": true
   },
   "outputs": [],
   "source": [
    "#select all investment products\n",
    "investment_accounts = all_accounts.loc[(all_accounts['products']  == 'Investment ISAs') | \n",
    "                                       (all_accounts['products']  == 'Mutual Funds') | \n",
    "                                       (all_accounts['products']  == 'Structured Products')|\n",
    "                                       (all_accounts['products']  == 'Stocks')|\n",
    "                                       (all_accounts['products']  == 'Government Bonds')|\n",
    "                                       (all_accounts['products']  == 'Secured Lending')|\n",
    "                                       (all_accounts['products']  == 'Corporate Bonds')|\n",
    "                                       (all_accounts['products']  == 'ETFs'),]"
   ]
  },
  {
   "cell_type": "code",
   "execution_count": 19,
   "metadata": {},
   "outputs": [
    {
     "data": {
      "image/png": "[encoded data removed]",
      "text/plain": [
       "<Figure size 432x288 with 1 Axes>"
      ]
     },
     "metadata": {},
     "output_type": "display_data"
    }
   ],
   "source": [
    "#barplot for # of investment products\n",
    "investment_accounts['products'].value_counts().plot(kind = 'barh')\n",
    "plt.xlabel('Number of Accounts')\n",
    "plt.title('Investment Products - Innovate Bank')\n",
    "plt.show()"
   ]
  },
  {
   "cell_type": "markdown",
   "metadata": {},
   "source": [
    "# 3. Train and test validation\n"
   ]
  },
  {
   "cell_type": "markdown",
   "metadata": {},
   "source": [
    "ALS algorithm has training parameters such as rank for matrix factors and regularization constants. To determine a good combination of the training parameters, we will evaluate rmse for each set of parameters. We will train the model on 80% of the data, and then use the trained algorithm to make predictions on the remaining test set (20%). Next, we will compare the predicted rating with the actual rating in the testset and calculate RMSE. RMSE represents the sample standard deviation of the differences between the predicted values with the actual values. "
   ]
  },
  {
   "cell_type": "raw",
   "metadata": {
    "collapsed": true
   },
   "source": [
    "# split data into train and test model (80/20 split)\n",
    "(train,test) = Customer_Accounts.randomSplit([0.8, 0.2], seed = 123)"
   ]
  },
  {
   "cell_type": "raw",
   "metadata": {
    "collapsed": true
   },
   "source": [
    "#select a few parameters and train the model for each set\n",
    "ranks = [4,7,10] # number of latent factors to create\n",
    "maxIter = [5,10,15,20] # maximum number of iterations to run"
   ]
  },
  {
   "cell_type": "raw",
   "metadata": {
    "scrolled": true
   },
   "source": [
    "#Create a loop to evaluate als model for each set of parameters given - in our case we are evaluating ranks and maxIter\n",
    "\n",
    "for i in ranks:\n",
    "    for j in maxIter:\n",
    "\n",
    "        # Create an als model with the given set of specific paramters \n",
    "        als_validation = ALS(maxIter=j ,rank =i,implicitPrefs=True, userCol=\"customer_urn\", itemCol=\"productid\", ratingCol=\"rating\", nonnegative=True)\n",
    "        model = als_validation.fit(train)\n",
    "        \n",
    "        #predict ratings for the test set using above als model\n",
    "        predictions = model.transform(test)\n",
    "        \n",
    "        # drop missing values from prediciton - else rmse will be Nan \n",
    "        predicted_ratings_df = predictions.filter(predictions.prediction != float('nan'))\n",
    "        \n",
    "        #evaluate predictions by calculating rmse\n",
    "        evaluator = RegressionEvaluator(metricName=\"rmse\", labelCol=\"rating\",\n",
    "                                        predictionCol=\"prediction\")\n",
    "        \n",
    "        rmse = evaluator.evaluate(predicted_ratings_df)\n",
    "        \n",
    "        # print rmse along with the rank and maxiteration parameter used\n",
    "        print \"Latent factors = \" + str(i),\"; Iterations = \" + str(j), \"; Root-mean-square error = \" + str(rmse)\n"
   ]
  },
  {
   "cell_type": "markdown",
   "metadata": {},
   "source": [
    "# 4. Finalize Recommendation Model (Implicit Feedback)"
   ]
  },
  {
   "cell_type": "markdown",
   "metadata": {},
   "source": [
    "# Algorithm: Alternating Least Squares"
   ]
  },
  {
   "cell_type": "code",
   "execution_count": 20,
   "metadata": {
    "collapsed": true
   },
   "outputs": [],
   "source": [
    "# Save the parameters that provide the lowers error rate into variables below (rank and maxiter paramters only) \n",
    "Best_rank = 4 \n",
    "Best_iteration = 5"
   ]
  },
  {
   "cell_type": "code",
   "execution_count": 21,
   "metadata": {
    "collapsed": true
   },
   "outputs": [],
   "source": [
    "# Set the parameters for the final als model\n",
    "als = ALS(maxIter= Best_iteration ,rank = Best_rank, implicitPrefs=True, userCol=\"customer_urn\", itemCol=\"productid\", ratingCol=\"rating\", nonnegative = True)\n",
    "\n",
    "# train als model with above paramters on accounts dataset\n",
    "cf_model = als.fit(Customer_Accounts)"
   ]
  },
  {
   "cell_type": "code",
   "execution_count": 22,
   "metadata": {
    "collapsed": true
   },
   "outputs": [],
   "source": [
    "# pipeline to save the als recommendation algorithm \n",
    "# this allows us to predict ratings for missing entires of customer and product tuples\n",
    "pipeline = Pipeline(stages=[cf_model])"
   ]
  },
  {
   "cell_type": "code",
   "execution_count": 23,
   "metadata": {
    "collapsed": true
   },
   "outputs": [],
   "source": [
    "# fit pipeline on the customer accounts data\n",
    "model = pipeline.fit(Customer_Accounts)"
   ]
  },
  {
   "cell_type": "markdown",
   "metadata": {},
   "source": [
    "# 5. Publish and Execute Final Model"
   ]
  },
  {
   "cell_type": "code",
   "execution_count": 24,
   "metadata": {
    "collapsed": true,
    "scrolled": false
   },
   "outputs": [],
   "source": [
    "# save to hdfs and publish model to BDA\n",
    "# in order to execute the model in BDA, it requires customerurn and productid fields as integer\n",
    "model.write().overwrite().save(\"hdfs://ussm-mag-ambari01.lab.opentext.com/OpenText/models/Financial_Recommender\")"
   ]
  },
  {
   "cell_type": "markdown",
   "metadata": {},
   "source": [
    "# ==========================================================="
   ]
  },
  {
   "cell_type": "markdown",
   "metadata": {
    "collapsed": true
   },
   "source": [
    "# Done!"
   ]
  }
 ],
 "metadata": {
  "kernelspec": {
   "display_name": "PySpark 2",
   "language": "python",
   "name": "pyspark2"
  },
  "language_info": {
   "codemirror_mode": {
    "name": "ipython",
    "version": 2
   },
   "file_extension": ".py",
   "mimetype": "text/x-python",
   "name": "python",
   "nbconvert_exporter": "python",
   "pygments_lexer": "ipython2",
   "version": "2.7.15"
  }
 },
 "nbformat": 4,
 "nbformat_minor": 2
}
